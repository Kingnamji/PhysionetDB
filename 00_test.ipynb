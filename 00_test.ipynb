{
  "nbformat": 4,
  "nbformat_minor": 0,
  "metadata": {
    "colab": {
      "name": "00_test",
      "provenance": []
    },
    "kernelspec": {
      "name": "python3",
      "display_name": "Python 3"
    },
    "language_info": {
      "name": "python"
    }
  },
  "cells": [
    {
      "cell_type": "code",
      "metadata": {
        "colab": {
          "base_uri": "https://localhost:8080/"
        },
        "id": "vzhymDLD4ro3",
        "outputId": "7bf30ed9-d2a3-42fc-8f83-62ca1aa87b8f"
      },
      "source": [
        "!pip install wfdb"
      ],
      "execution_count": 1,
      "outputs": [
        {
          "output_type": "stream",
          "text": [
            "Collecting wfdb\n",
            "\u001b[?25l  Downloading https://files.pythonhosted.org/packages/ee/28/21d6924727ff45c1ab0182d384e470fa5d1e985349528c4b807587b5da59/wfdb-3.4.0-py3-none-any.whl (137kB)\n",
            "\r\u001b[K     |██▍                             | 10kB 14.5MB/s eta 0:00:01\r\u001b[K     |████▊                           | 20kB 8.5MB/s eta 0:00:01\r\u001b[K     |███████▏                        | 30kB 7.5MB/s eta 0:00:01\r\u001b[K     |█████████▌                      | 40kB 7.1MB/s eta 0:00:01\r\u001b[K     |████████████                    | 51kB 3.0MB/s eta 0:00:01\r\u001b[K     |██████████████▎                 | 61kB 3.3MB/s eta 0:00:01\r\u001b[K     |████████████████▊               | 71kB 3.3MB/s eta 0:00:01\r\u001b[K     |███████████████████             | 81kB 3.6MB/s eta 0:00:01\r\u001b[K     |█████████████████████▍          | 92kB 3.6MB/s eta 0:00:01\r\u001b[K     |███████████████████████▉        | 102kB 3.7MB/s eta 0:00:01\r\u001b[K     |██████████████████████████▏     | 112kB 3.7MB/s eta 0:00:01\r\u001b[K     |████████████████████████████▋   | 122kB 3.7MB/s eta 0:00:01\r\u001b[K     |███████████████████████████████ | 133kB 3.7MB/s eta 0:00:01\r\u001b[K     |████████████████████████████████| 143kB 3.7MB/s \n",
            "\u001b[?25hRequirement already satisfied: chardet>=3.0.0 in /usr/local/lib/python3.7/dist-packages (from wfdb) (3.0.4)\n",
            "Requirement already satisfied: requests>=2.8.1 in /usr/local/lib/python3.7/dist-packages (from wfdb) (2.23.0)\n",
            "Requirement already satisfied: urllib3>=1.22 in /usr/local/lib/python3.7/dist-packages (from wfdb) (1.24.3)\n",
            "Requirement already satisfied: pytz>=2017.2 in /usr/local/lib/python3.7/dist-packages (from wfdb) (2018.9)\n",
            "Requirement already satisfied: cycler>=0.10.0 in /usr/local/lib/python3.7/dist-packages (from wfdb) (0.10.0)\n",
            "Requirement already satisfied: matplotlib>=2.0.0 in /usr/local/lib/python3.7/dist-packages (from wfdb) (3.2.2)\n",
            "Requirement already satisfied: pyparsing>=2.0.4 in /usr/local/lib/python3.7/dist-packages (from wfdb) (2.4.7)\n",
            "Requirement already satisfied: python-dateutil>=2.4.2 in /usr/local/lib/python3.7/dist-packages (from wfdb) (2.8.1)\n",
            "Requirement already satisfied: scipy>=0.17.0 in /usr/local/lib/python3.7/dist-packages (from wfdb) (1.4.1)\n",
            "Requirement already satisfied: kiwisolver>=1.1.0 in /usr/local/lib/python3.7/dist-packages (from wfdb) (1.3.1)\n",
            "Collecting threadpoolctl>=1.0.0\n",
            "  Downloading https://files.pythonhosted.org/packages/f7/12/ec3f2e203afa394a149911729357aa48affc59c20e2c1c8297a60f33f133/threadpoolctl-2.1.0-py3-none-any.whl\n",
            "Requirement already satisfied: joblib>=0.11 in /usr/local/lib/python3.7/dist-packages (from wfdb) (1.0.1)\n",
            "Requirement already satisfied: scikit-learn>=0.18 in /usr/local/lib/python3.7/dist-packages (from wfdb) (0.22.2.post1)\n",
            "Requirement already satisfied: certifi>=2016.8.2 in /usr/local/lib/python3.7/dist-packages (from wfdb) (2021.5.30)\n",
            "Requirement already satisfied: numpy>=1.10.1 in /usr/local/lib/python3.7/dist-packages (from wfdb) (1.19.5)\n",
            "Requirement already satisfied: pandas>=0.17.0 in /usr/local/lib/python3.7/dist-packages (from wfdb) (1.1.5)\n",
            "Requirement already satisfied: idna>=2.2 in /usr/local/lib/python3.7/dist-packages (from wfdb) (2.10)\n",
            "Requirement already satisfied: six in /usr/local/lib/python3.7/dist-packages (from cycler>=0.10.0->wfdb) (1.15.0)\n",
            "Installing collected packages: threadpoolctl, wfdb\n",
            "Successfully installed threadpoolctl-2.1.0 wfdb-3.4.0\n"
          ],
          "name": "stdout"
        }
      ]
    },
    {
      "cell_type": "code",
      "metadata": {
        "id": "IRyr1wcx42Vh"
      },
      "source": [
        "import wfdb\n",
        "import numpy as np\n",
        "import pandas as pd\n",
        "import matplotlib.pyplot as plt"
      ],
      "execution_count": 20,
      "outputs": []
    },
    {
      "cell_type": "code",
      "metadata": {
        "colab": {
          "base_uri": "https://localhost:8080/",
          "height": 295
        },
        "id": "iFBkEEXS4_ov",
        "outputId": "da154146-a9a0-4e65-a879-86f54cb07711"
      },
      "source": [
        "record = wfdb.rdrecord('/content/drive/MyDrive/wfdb/sample-data/a103l')\n",
        "wfdb.plot_wfdb(record=record, title = \"Test with sample data\")"
      ],
      "execution_count": 6,
      "outputs": [
        {
          "output_type": "display_data",
          "data": {
            "image/png": "[encoded data removed]",
            "text/plain": [
              "<Figure size 432x288 with 3 Axes>"
            ]
          },
          "metadata": {
            "tags": [],
            "needs_background": "light"
          }
        }
      ]
    },
    {
      "cell_type": "code",
      "metadata": {
        "colab": {
          "base_uri": "https://localhost:8080/",
          "height": 611
        },
        "id": "9WXGozOX7P68",
        "outputId": "8776931e-6d42-4693-85bf-5151dd1eb485"
      },
      "source": [
        "display(record.__dict__)"
      ],
      "execution_count": 7,
      "outputs": [
        {
          "output_type": "display_data",
          "data": {
            "text/plain": [
              "{'adc_gain': [7247.0, 10520.0, 12530.0],\n",
              " 'adc_res': [16, 16, 16],\n",
              " 'adc_zero': [0, 0, 0],\n",
              " 'base_counter': None,\n",
              " 'base_date': None,\n",
              " 'base_time': None,\n",
              " 'baseline': [0, 0, 0],\n",
              " 'block_size': [0, 0, 0],\n",
              " 'byte_offset': [24, 24, 24],\n",
              " 'checksum': [-27403, -301, -17391],\n",
              " 'comments': ['Asystole', 'False alarm'],\n",
              " 'counter_freq': None,\n",
              " 'd_signal': None,\n",
              " 'e_d_signal': None,\n",
              " 'e_p_signal': None,\n",
              " 'file_name': ['a103l.mat', 'a103l.mat', 'a103l.mat'],\n",
              " 'fmt': ['16', '16', '16'],\n",
              " 'fs': 250,\n",
              " 'init_value': [-171, 9127, 6042],\n",
              " 'n_sig': 3,\n",
              " 'p_signal': array([[-0.02359597,  0.86758555,  0.48220271],\n",
              "        [-0.03698082,  0.98298479,  0.5443735 ],\n",
              "        [-0.06292259,  0.85979087,  0.47821229],\n",
              "        ...,\n",
              "        [-0.04084449,  0.7493346 ,  0.5150838 ],\n",
              "        [-0.04719194,  0.7581749 ,  0.50957702],\n",
              "        [-0.04677798,  0.7615019 ,  0.5028731 ]]),\n",
              " 'record_name': 'a103l',\n",
              " 'samps_per_frame': [1, 1, 1],\n",
              " 'sig_len': 82500,\n",
              " 'sig_name': ['II', 'V', 'PLETH'],\n",
              " 'skew': [None, None, None],\n",
              " 'units': ['mV', 'mV', 'NU']}"
            ]
          },
          "metadata": {
            "tags": []
          }
        }
      ]
    },
    {
      "cell_type": "code",
      "metadata": {
        "colab": {
          "base_uri": "https://localhost:8080/",
          "height": 295
        },
        "id": "lW_L1mKq7csp",
        "outputId": "be078671-95ef-45d9-ba46-abd997a90bac"
      },
      "source": [
        "record2 = wfdb.rdrecord('a103l', pn_dir='challenge-2015/training/')\n",
        "wfdb.plot_wfdb(record=record2, title = \"Test with sample data\")"
      ],
      "execution_count": 4,
      "outputs": [
        {
          "output_type": "display_data",
          "data": {
            "image/png": "[encoded data removed]",
            "text/plain": [
              "<Figure size 432x288 with 3 Axes>"
            ]
          },
          "metadata": {
            "tags": [],
            "needs_background": "light"
          }
        }
      ]
    },
    {
      "cell_type": "code",
      "metadata": {
        "colab": {
          "base_uri": "https://localhost:8080/",
          "height": 143
        },
        "id": "xq5iXtOk8OL2",
        "outputId": "68a0fd14-d001-4cc2-bfc7-1023b61c21b6"
      },
      "source": [
        "# 특정 채널만 읽기\n",
        "signals, fields = wfdb.rdsamp('/content/drive/MyDrive/wfdb/sample-data/s0010_re', channels=[14, 0, 5, 10], sampfrom=100, sampto=15000)\n",
        "display(signals)"
      ],
      "execution_count": 10,
      "outputs": [
        {
          "output_type": "display_data",
          "data": {
            "text/plain": [
              "array([[ 0.0335, -0.167 , -0.237 ,  0.1165],\n",
              "       [ 0.0355, -0.1615, -0.2395,  0.119 ],\n",
              "       [ 0.0385, -0.168 , -0.2465,  0.116 ],\n",
              "       ...,\n",
              "       [-0.0445,  0.008 ,  0.033 ,  0.045 ],\n",
              "       [-0.044 ,  0.0175,  0.042 ,  0.052 ],\n",
              "       [-0.044 ,  0.0245,  0.0365,  0.05  ]])"
            ]
          },
          "metadata": {
            "tags": []
          }
        }
      ]
    },
    {
      "cell_type": "code",
      "metadata": {
        "colab": {
          "base_uri": "https://localhost:8080/",
          "height": 1000
        },
        "id": "8Q58twyr8aOw",
        "outputId": "12c1d0a9-4fd0-472b-e341-6cbcd6593b0b"
      },
      "source": [
        "display(fields)"
      ],
      "execution_count": 11,
      "outputs": [
        {
          "output_type": "display_data",
          "data": {
            "text/plain": [
              "{'base_date': None,\n",
              " 'base_time': None,\n",
              " 'comments': ['age: 81',\n",
              "  'sex: female',\n",
              "  'ECG date: 01/10/1990',\n",
              "  'Diagnose:',\n",
              "  'Reason for admission: Myocardial infarction',\n",
              "  'Acute infarction (localization): infero-latera',\n",
              "  'Former infarction (localization): no',\n",
              "  'Additional diagnoses: Diabetes mellitus',\n",
              "  'Smoker: no',\n",
              "  'Number of coronary vessels involved: 1',\n",
              "  'Infarction date (acute): 29-Sep-90',\n",
              "  'Previous infarction (1) date: n/a',\n",
              "  'Previous infarction (2) date: n/a',\n",
              "  'Hemodynamics:',\n",
              "  'Catheterization date: 16-Oct-90',\n",
              "  'Ventriculography: Akinesia inferior wall',\n",
              "  'Chest X-ray: Heart size upper limit of norm',\n",
              "  'Peripheral blood Pressure (syst/diast):  140/80 mmHg',\n",
              "  'Pulmonary artery pressure (at rest) (syst/diast): n/a',\n",
              "  'Pulmonary artery pressure (at rest) (mean): n/a',\n",
              "  'Pulmonary capillary wedge pressure (at rest): n/a',\n",
              "  'Cardiac output (at rest): n/a',\n",
              "  'Cardiac index (at rest): n/a',\n",
              "  'Stroke volume index (at rest): n/a',\n",
              "  'Pulmonary artery pressure (laod) (syst/diast): n/a',\n",
              "  'Pulmonary artery pressure (laod) (mean): n/a',\n",
              "  'Pulmonary capillary wedge pressure (load): n/a',\n",
              "  'Cardiac output (load): n/a',\n",
              "  'Cardiac index (load): n/a',\n",
              "  'Stroke volume index (load): n/a',\n",
              "  'Aorta (at rest) (syst/diast): 160/64 cmH2O',\n",
              "  'Aorta (at rest) mean: 106 cmH2O',\n",
              "  'Left ventricular enddiastolic pressure: 11 cmH2O',\n",
              "  'Left coronary artery stenoses (RIVA): RIVA 70% proximal to ramus diagonalis_2',\n",
              "  'Left coronary artery stenoses (RCX): No stenoses',\n",
              "  'Right coronary artery stenoses (RCA): No stenoses',\n",
              "  'Echocardiography: n/a',\n",
              "  'Therapy:',\n",
              "  'Infarction date: 29-Sep-90',\n",
              "  'Catheterization date: 16-Oct-90',\n",
              "  'Admission date: 29-Sep-90',\n",
              "  'Medication pre admission: Isosorbit-Dinitrate Digoxin Glibenclamide',\n",
              "  'Start lysis therapy (hh.mm): 19:45',\n",
              "  'Lytic agent: Gamma-TPA',\n",
              "  'Dosage (lytic agent): 30 mg',\n",
              "  'Additional medication: Heparin Isosorbit-Mononitrate ASA Diazepam',\n",
              "  'In hospital medication: ASA Isosorbit-Mononitrate Ca-antagonist Amiloride+Chlorothiazide Glibenclamide Insulin',\n",
              "  'Medication after discharge: ASA Isosorbit-Mononitrate Amiloride+Chlorothiazide Glibenclamide'],\n",
              " 'fs': 1000,\n",
              " 'n_sig': 4,\n",
              " 'sig_len': 14900,\n",
              " 'sig_name': ['vz', 'i', 'avf', 'v5'],\n",
              " 'units': ['mV', 'mV', 'mV', 'mV']}"
            ]
          },
          "metadata": {
            "tags": []
          }
        }
      ]
    },
    {
      "cell_type": "code",
      "metadata": {
        "id": "vizLUFuh8SyK"
      },
      "source": [
        "# Physionet\n",
        "signals2, fields2 = wfdb.rdsamp('s0010_re', channels=[14, 0, 5, 10], sampfrom=100, sampto=15000, pn_dir='ptbdb/patient001/')"
      ],
      "execution_count": 12,
      "outputs": []
    },
    {
      "cell_type": "code",
      "metadata": {
        "colab": {
          "base_uri": "https://localhost:8080/",
          "height": 161
        },
        "id": "15rBXt318e6Q",
        "outputId": "a5433596-b104-4b4d-a60a-e2c374d5c9f6"
      },
      "source": [
        "display(signals2)\n",
        "print(signals2.shape) # 14,0,5,10 채널 순으로 100~15000까지 14900,4"
      ],
      "execution_count": 15,
      "outputs": [
        {
          "output_type": "display_data",
          "data": {
            "text/plain": [
              "array([[ 0.0335, -0.167 , -0.237 ,  0.1165],\n",
              "       [ 0.0355, -0.1615, -0.2395,  0.119 ],\n",
              "       [ 0.0385, -0.168 , -0.2465,  0.116 ],\n",
              "       ...,\n",
              "       [-0.0445,  0.008 ,  0.033 ,  0.045 ],\n",
              "       [-0.044 ,  0.0175,  0.042 ,  0.052 ],\n",
              "       [-0.044 ,  0.0245,  0.0365,  0.05  ]])"
            ]
          },
          "metadata": {
            "tags": []
          }
        },
        {
          "output_type": "stream",
          "text": [
            "(14900, 4)\n"
          ],
          "name": "stdout"
        }
      ]
    },
    {
      "cell_type": "code",
      "metadata": {
        "colab": {
          "base_uri": "https://localhost:8080/",
          "height": 1000
        },
        "id": "7wG9UGE28gdV",
        "outputId": "907ea2fd-4f8c-49f6-bec5-2cfd78bfdb0c"
      },
      "source": [
        "display(fields)"
      ],
      "execution_count": 14,
      "outputs": [
        {
          "output_type": "display_data",
          "data": {
            "text/plain": [
              "{'base_date': None,\n",
              " 'base_time': None,\n",
              " 'comments': ['age: 81',\n",
              "  'sex: female',\n",
              "  'ECG date: 01/10/1990',\n",
              "  'Diagnose:',\n",
              "  'Reason for admission: Myocardial infarction',\n",
              "  'Acute infarction (localization): infero-latera',\n",
              "  'Former infarction (localization): no',\n",
              "  'Additional diagnoses: Diabetes mellitus',\n",
              "  'Smoker: no',\n",
              "  'Number of coronary vessels involved: 1',\n",
              "  'Infarction date (acute): 29-Sep-90',\n",
              "  'Previous infarction (1) date: n/a',\n",
              "  'Previous infarction (2) date: n/a',\n",
              "  'Hemodynamics:',\n",
              "  'Catheterization date: 16-Oct-90',\n",
              "  'Ventriculography: Akinesia inferior wall',\n",
              "  'Chest X-ray: Heart size upper limit of norm',\n",
              "  'Peripheral blood Pressure (syst/diast):  140/80 mmHg',\n",
              "  'Pulmonary artery pressure (at rest) (syst/diast): n/a',\n",
              "  'Pulmonary artery pressure (at rest) (mean): n/a',\n",
              "  'Pulmonary capillary wedge pressure (at rest): n/a',\n",
              "  'Cardiac output (at rest): n/a',\n",
              "  'Cardiac index (at rest): n/a',\n",
              "  'Stroke volume index (at rest): n/a',\n",
              "  'Pulmonary artery pressure (laod) (syst/diast): n/a',\n",
              "  'Pulmonary artery pressure (laod) (mean): n/a',\n",
              "  'Pulmonary capillary wedge pressure (load): n/a',\n",
              "  'Cardiac output (load): n/a',\n",
              "  'Cardiac index (load): n/a',\n",
              "  'Stroke volume index (load): n/a',\n",
              "  'Aorta (at rest) (syst/diast): 160/64 cmH2O',\n",
              "  'Aorta (at rest) mean: 106 cmH2O',\n",
              "  'Left ventricular enddiastolic pressure: 11 cmH2O',\n",
              "  'Left coronary artery stenoses (RIVA): RIVA 70% proximal to ramus diagonalis_2',\n",
              "  'Left coronary artery stenoses (RCX): No stenoses',\n",
              "  'Right coronary artery stenoses (RCA): No stenoses',\n",
              "  'Echocardiography: n/a',\n",
              "  'Therapy:',\n",
              "  'Infarction date: 29-Sep-90',\n",
              "  'Catheterization date: 16-Oct-90',\n",
              "  'Admission date: 29-Sep-90',\n",
              "  'Medication pre admission: Isosorbit-Dinitrate Digoxin Glibenclamide',\n",
              "  'Start lysis therapy (hh.mm): 19:45',\n",
              "  'Lytic agent: Gamma-TPA',\n",
              "  'Dosage (lytic agent): 30 mg',\n",
              "  'Additional medication: Heparin Isosorbit-Mononitrate ASA Diazepam',\n",
              "  'In hospital medication: ASA Isosorbit-Mononitrate Ca-antagonist Amiloride+Chlorothiazide Glibenclamide Insulin',\n",
              "  'Medication after discharge: ASA Isosorbit-Mononitrate Amiloride+Chlorothiazide Glibenclamide'],\n",
              " 'fs': 1000,\n",
              " 'n_sig': 4,\n",
              " 'sig_len': 14900,\n",
              " 'sig_name': ['vz', 'i', 'avf', 'v5'],\n",
              " 'units': ['mV', 'mV', 'mV', 'mV']}"
            ]
          },
          "metadata": {
            "tags": []
          }
        }
      ]
    },
    {
      "cell_type": "code",
      "metadata": {
        "colab": {
          "base_uri": "https://localhost:8080/",
          "height": 575
        },
        "id": "j7qX4POu9cU7",
        "outputId": "55c99148-2266-4e1b-de61-92c65376d0ac"
      },
      "source": [
        "# WFDB header file만 읽기 signal 제외\n",
        "record = wfdb.rdheader('/content/drive/MyDrive/wfdb/sample-data/drive02')\n",
        "display(record.__dict__)\n",
        "\n",
        "# Physionet에서 읽기\n",
        "record2 = wfdb.rdheader('drive02', pn_dir='drivedb')"
      ],
      "execution_count": 16,
      "outputs": [
        {
          "output_type": "display_data",
          "data": {
            "text/plain": [
              "{'adc_gain': [1000.0, 1000.0, 1.0001, 100.0, 500.0],\n",
              " 'adc_res': [16, 16, 16, 16, 16],\n",
              " 'adc_zero': [0, 0, 0, 0, 0],\n",
              " 'base_counter': None,\n",
              " 'base_date': None,\n",
              " 'base_time': None,\n",
              " 'baseline': [0, 0, 0, 0, 0],\n",
              " 'block_size': [0, 0, 0, 0, 0],\n",
              " 'byte_offset': [None, None, None, None, None],\n",
              " 'checksum': [14736, 13501, -19070, -9226, -14191],\n",
              " 'comments': [],\n",
              " 'counter_freq': None,\n",
              " 'd_signal': None,\n",
              " 'e_d_signal': None,\n",
              " 'e_p_signal': None,\n",
              " 'file_name': ['drive02.dat',\n",
              "  'drive02.dat',\n",
              "  'drive02.dat',\n",
              "  'drive02.dat',\n",
              "  'drive02.dat'],\n",
              " 'fmt': ['16', '16', '16', '16', '16'],\n",
              " 'fs': 15.5,\n",
              " 'init_value': [-1236, 1802, 75, 0, 5804],\n",
              " 'n_sig': 5,\n",
              " 'p_signal': None,\n",
              " 'record_name': 'drive02',\n",
              " 'samps_per_frame': [32, 2, 1, 1, 2],\n",
              " 'sig_len': 78056,\n",
              " 'sig_name': ['ECG', 'foot GSR', 'HR', 'marker', 'RESP'],\n",
              " 'skew': [None, None, None, None, None],\n",
              " 'units': ['mV', 'mV', 'bpm', 'mV', 'mV']}"
            ]
          },
          "metadata": {
            "tags": []
          }
        }
      ]
    }
  ]
}